{
 "cells": [
  {
   "cell_type": "markdown",
   "metadata": {},
   "source": [
    "当我们找工作时，拉勾网是一个不错的网站。今天我们抓取一些拉勾网的招聘数据，来分析`数据分析`岗位的一些市场招聘情况、薪资情况等，以便于大家后续对找数据分析相关岗位时有一个清晰的认识。"
   ]
  },
  {
   "cell_type": "markdown",
   "metadata": {},
   "source": [
    "## 分析请求\n",
    "\n",
    "这里我们搜索关键词：`数据分析`，并且限定工作地点：北京。\n",
    "\n",
    "![](../image/07-拉勾网搜索截图.png)\n",
    "\n",
    "然后我们通过浏览器的F12快捷键打开开发者调试工具，在`NetWork`标签下选择`XHR`，可以看到有一个请求是 `positionAjax.json`，查看下Response可以看到，所有的招聘信息都是通过这个API接口返回的。\n",
    "\n",
    "可以看到完整的URL是`https://www.lagou.com/jobs/positionAjax.json?city=%E5%8C%97%E4%BA%AC&needAddtionalResult=false`，并且是 POST 请求。\n",
    "\n",
    "可以看出来，城市地点的限定是通过URL中的`city`参数控制的。\n",
    "\n",
    "![](../image/07-NetWork-1.png)\n",
    "\n",
    "那我们的搜索关键词和页数是怎么控制的呢？仔细研究下，发现POST请求时还发送了一个表单信息，里面包含了搜索的关键字参数`kd`以及控制页数参数`pn`。\n",
    "\n",
    "![](../image/07-NetWork-2.png)\n"
   ]
  },
  {
   "cell_type": "markdown",
   "metadata": {
    "collapsed": true
   },
   "source": [
    "## 爬取数据\n",
    "\n",
    "分析了请求，知道了数据的传输方式，现在我们来写程序来爬取下第一页的数据。"
   ]
  },
  {
   "cell_type": "code",
   "execution_count": 1,
   "metadata": {
    "ExecuteTime": {
     "end_time": "2018-09-11T17:14:14.436752Z",
     "start_time": "2018-09-11T17:05:31.801317Z"
    }
   },
   "outputs": [
    {
     "name": "stdout",
     "output_type": "stream",
     "text": [
      "pn: 6, 抓取失败\n",
      "pn: 12, 抓取失败\n",
      "pn: 18, 抓取失败\n",
      "pn: 24, 抓取失败\n",
      "pn: 30, 抓取失败\n",
      "抓取第 49 页成功\r"
     ]
    }
   ],
   "source": [
    "import pandas as pd\n",
    "import requests\n",
    "import time\n",
    "from collections import defaultdict\n",
    "\n",
    "headers = {\n",
    "    \"User-Agent\": \"Mozilla/5.0 (Windows NT 10.0; WOW64) AppleWebKit/537.36 (KHTML, like Gecko) Chrome/63.0.3239.132 Safari/537.36\",\n",
    "    \"Referer\": \"https://www.lagou.com/jobs/list_%E6%95%B0%E6%8D%AE%E5%88%86%E6%9E%90?city=%E5%8C%97%E4%BA%AC&cl=false&fromSearch=true&labelWords=&suginput=\",\n",
    "}\n",
    "\n",
    "cookies = {\n",
    "    \"Cookie\": \"JSESSIONID=ABAAABAAADEAAFI3E2AE80419BA8FFB6F5FFB49D1573C34; _ga=GA1.2.260226169.1531815206; user_trace_token=20180717161326-47e61066-8999-11e8-9c54-525400f775ce; LGUID=20180717161326-47e613e7-8999-11e8-9c54-525400f775ce; _gid=GA1.2.1025242393.1534486196; Hm_lvt_4233e74dff0ae5bd0a3d81c6ccf756e6=1534486196; TG-TRACK-CODE=index_search; fromsite=translate.baiducontent.com; utm_source=\"\"; index_location_city=%E5%8C%97%E4%BA%AC; Hm_lpvt_4233e74dff0ae5bd0a3d81c6ccf756e6=1534650094; _gat=1; LGSID=20180819114134-c4f1bc52-a361-11e8-a9f8-5254005c3644; PRE_UTM=; PRE_HOST=; PRE_SITE=https%3A%2F%2Fwww.lagou.com%2Fjobs%2Flist_%3FlabelWords%3D%26fromSearch%3Dtrue%26suginput%3D; PRE_LAND=https%3A%2F%2Fwww.lagou.com%2Fjobs%2Flist_%25E6%2595%25B0%25E6%258D%25AE%25E5%2588%2586%25E6%259E%2590%3Fcity%3D%25E5%258C%2597%25E4%25BA%25AC%26cl%3Dfalse%26fromSearch%3Dtrue%26labelWords%3D%26suginput%3D; LGRID=20180819114134-c4f1bf1a-a361-11e8-a9f8-5254005c3644; SEARCH_ID=c5acefc2c73649dea43d17ec5f57b810\"\n",
    "}\n",
    "\n",
    "\n",
    "# 爬取每一页的数据\n",
    "def crawl_lagou_data(city, kd, pn=1):\n",
    "    url = \"https://www.lagou.com/jobs/positionAjax.json?city={city}&needAddtionalResult=false\".format(city=city)\n",
    "    \n",
    "    data = {\n",
    "    \"first\": True,\n",
    "    \"pn\": pn,\n",
    "    \"kd\": kd\n",
    "    }\n",
    "    rp = requests.post(url, headers=headers, cookies=cookies, data=data)\n",
    "    \n",
    "    result = rp.json()\n",
    "    if not result[\"success\"]:\n",
    "        print(\"pn: %s, 抓取失败\" % pn)\n",
    "        return []\n",
    "    return result[\"content\"][\"positionResult\"][\"result\"]\n",
    "\n",
    "result = defaultdict(list)\n",
    "\n",
    "\n",
    "for i in range(1, 50):\n",
    "    print(\"正在抓取第 %s 页\" %i, end=\"\\r\")\n",
    "    job_infos = crawl_lagou_data(\"北京\", \"数据分析\", i)\n",
    "    for job_info in job_infos:\n",
    "        result[\"positionId\"].append(job_info.get(\"positionId\"))\n",
    "        result[\"city\"].append(job_info.get(\"city\"))\n",
    "        result[\"companyLabelList\"].append(\",\".join(job_info.get(\"companyLabelList\")))\n",
    "        result[\"companyShortName\"].append(job_info.get(\"companyShortName\"))\n",
    "        result[\"companySize\"].append(job_info.get(\"companySize\"))\n",
    "        result[\"district\"].append(job_info.get(\"district\"))\n",
    "        result[\"education\"].append(job_info.get(\"education\"))\n",
    "        result[\"salary\"].append(job_info.get(\"salary\"))\n",
    "        result[\"workYear\"].append(job_info.get(\"workYear\"))\n",
    "        result[\"financeStage\"].append(job_info.get(\"financeStage\"))\n",
    "        result[\"subwayline\"].append(job_info.get(\"subwayline\"))     \n",
    "    print(\"抓取第 %s 页成功\" %i, end=\"\\r\")\n",
    "    time.sleep(10)\n",
    "df = pd.DataFrame(result)"
   ]
  },
  {
   "cell_type": "markdown",
   "metadata": {
    "ExecuteTime": {
     "end_time": "2018-09-11T15:05:42.659908Z",
     "start_time": "2018-09-11T15:05:42.630831Z"
    }
   },
   "source": [
    "由于拉勾网的反爬虫机制做得较好，这里设置的每次抓取休息间隔 10s 会有部分抓取失效，如果不考虑抓取效率的话，可以适当增加这个时间。"
   ]
  },
  {
   "cell_type": "markdown",
   "metadata": {},
   "source": [
    "## 分析数据\n",
    "\n",
    "首先先根据 `positionId` 字段进行一次去重。"
   ]
  },
  {
   "cell_type": "code",
   "execution_count": 2,
   "metadata": {
    "ExecuteTime": {
     "end_time": "2018-09-11T17:14:14.478863Z",
     "start_time": "2018-09-11T17:14:14.446778Z"
    }
   },
   "outputs": [
    {
     "name": "stdout",
     "output_type": "stream",
     "text": [
      "去重前数据：(660, 11)\n",
      "去重后数据：(657, 11)\n"
     ]
    }
   ],
   "source": [
    "print(\"去重前数据：{}\".format(df.shape))\n",
    "df = df.drop_duplicates(subset=[\"positionId\"])\n",
    "print(\"去重后数据：{}\".format(df.shape))"
   ]
  },
  {
   "cell_type": "code",
   "execution_count": 3,
   "metadata": {
    "ExecuteTime": {
     "end_time": "2018-09-11T17:14:14.561083Z",
     "start_time": "2018-09-11T17:14:14.481871Z"
    }
   },
   "outputs": [],
   "source": [
    "df.to_csv('df.csv', index=False)"
   ]
  },
  {
   "cell_type": "markdown",
   "metadata": {},
   "source": [
    "### 哪些公司的招聘需求最多呢？\n",
    "\n",
    "我们先来统计下招聘岗位数量前 10 的公司。"
   ]
  },
  {
   "cell_type": "code",
   "execution_count": 4,
   "metadata": {
    "ExecuteTime": {
     "end_time": "2018-09-11T17:14:14.947111Z",
     "start_time": "2018-09-11T17:14:14.564091Z"
    }
   },
   "outputs": [],
   "source": [
    "%matplotlib inline\n",
    "import pandas as pd\n",
    "import matplotlib.pyplot as plt\n",
    "plt.rcParams[\"font.sans-serif\"]=[\"SimHei\"] #用来正常显示中文标签\n",
    "plt.rcParams[\"axes.unicode_minus\"]=False #用来正常显示负号"
   ]
  },
  {
   "cell_type": "code",
   "execution_count": 5,
   "metadata": {
    "ExecuteTime": {
     "end_time": "2018-09-11T17:14:15.191763Z",
     "start_time": "2018-09-11T17:14:14.949117Z"
    }
   },
   "outputs": [
    {
     "data": {
      "image/png": "[encoded data removed]",
      "text/plain": [
       "<Figure size 432x288 with 1 Axes>"
      ]
     },
     "metadata": {},
     "output_type": "display_data"
    }
   ],
   "source": [
    "company_count = df.companyShortName.value_counts()[:10]\n",
    "company_count.plot.bar();"
   ]
  },
  {
   "cell_type": "markdown",
   "metadata": {},
   "source": [
    "招聘数量排名前十的公司中，美团点评第一位。"
   ]
  },
  {
   "cell_type": "markdown",
   "metadata": {},
   "source": [
    "### 什么样的学历能够胜任数据分析呢？\n",
    "\n",
    "市场上对数据分析岗位到底要求什么学历呢？我们可以统计下不同招聘不同学历岗位的数量来得到我们想要的结论。"
   ]
  },
  {
   "cell_type": "code",
   "execution_count": 6,
   "metadata": {
    "ExecuteTime": {
     "end_time": "2018-09-11T17:14:15.299048Z",
     "start_time": "2018-09-11T17:14:15.196777Z"
    }
   },
   "outputs": [
    {
     "data": {
      "image/png": "[encoded data removed]",
      "text/plain": [
       "<Figure size 360x360 with 1 Axes>"
      ]
     },
     "metadata": {},
     "output_type": "display_data"
    }
   ],
   "source": [
    "df.education.value_counts().plot.pie(figsize=(5, 5), autopct=\"%.2f\");"
   ]
  },
  {
   "cell_type": "markdown",
   "metadata": {},
   "source": [
    "可以看到，对于数据分析岗位来说，绝大多数的公司要求的学历是本科即可。"
   ]
  },
  {
   "cell_type": "markdown",
   "metadata": {},
   "source": [
    "### 几年工作经验更受市场欢迎呢？\n",
    "\n",
    "我们来看下到底几年经验的数据分析师更受市场欢迎呢？"
   ]
  },
  {
   "cell_type": "code",
   "execution_count": 7,
   "metadata": {
    "ExecuteTime": {
     "end_time": "2018-09-11T17:14:15.501589Z",
     "start_time": "2018-09-11T17:14:15.302058Z"
    }
   },
   "outputs": [
    {
     "data": {
      "image/png": "[encoded data removed]",
      "text/plain": [
       "<Figure size 360x360 with 1 Axes>"
      ]
     },
     "metadata": {},
     "output_type": "display_data"
    }
   ],
   "source": [
    "df.education.value_counts().plot.pie(figsize=(5, 5), autopct=\"%.2f\");df.workYear.value_counts().plot.pie();"
   ]
  },
  {
   "cell_type": "markdown",
   "metadata": {},
   "source": [
    "答案很明显，3-5年的数据分析师最受市场欢迎。"
   ]
  },
  {
   "cell_type": "markdown",
   "metadata": {},
   "source": [
    "### 北京哪个区的数据分析岗位机会最多？\n",
    "\n",
    "由于我们抓取的是北京地区的数据分析岗位招聘情况，所以这里来统计下哪个区的机会最多。"
   ]
  },
  {
   "cell_type": "code",
   "execution_count": 8,
   "metadata": {
    "ExecuteTime": {
     "end_time": "2018-09-11T17:14:15.710146Z",
     "start_time": "2018-09-11T17:14:15.504599Z"
    }
   },
   "outputs": [
    {
     "data": {
      "image/png": "[encoded data removed]",
      "text/plain": [
       "<Figure size 432x288 with 1 Axes>"
      ]
     },
     "metadata": {},
     "output_type": "display_data"
    }
   ],
   "source": [
    "data = df.district.value_counts().plot.barh();"
   ]
  },
  {
   "cell_type": "markdown",
   "metadata": {},
   "source": [
    "可以看到，朝阳区的数据分析岗位机会最多，我们可以将它可视化在地区图中。"
   ]
  },
  {
   "cell_type": "code",
   "execution_count": 15,
   "metadata": {
    "ExecuteTime": {
     "end_time": "2018-09-11T17:23:29.023212Z",
     "start_time": "2018-09-11T17:23:28.973078Z"
    }
   },
   "outputs": [
    {
     "data": {
      "text/html": [
       "<script>\n",
       "    require.config({\n",
       "        paths: {\n",
       "            'echarts': '/nbextensions/echarts/echarts.min', 'beijing': '/nbextensions/echarts-china-cities-js/beijing'\n",
       "        }\n",
       "    });\n",
       "</script>\n",
       "    <div id=\"bd615aa97e5a46568189629b486d1d81\" style=\"width:600px;height:400px;\"></div>\n",
       "\n",
       "\n",
       "<script>\n",
       "    require(['echarts', 'beijing'], function(echarts) {\n",
       "        \n",
       "var myChart_bd615aa97e5a46568189629b486d1d81 = echarts.init(document.getElementById('bd615aa97e5a46568189629b486d1d81'), 'light', {renderer: 'canvas'});\n",
       "\n",
       "var option_bd615aa97e5a46568189629b486d1d81 = {\n",
       "    \"title\": [\n",
       "        {\n",
       "            \"text\": \"\\u5317\\u4eac\",\n",
       "            \"subtext\": \"job\",\n",
       "            \"left\": \"center\",\n",
       "            \"top\": \"auto\",\n",
       "            \"textStyle\": {\n",
       "                \"color\": \"#fff\",\n",
       "                \"fontSize\": 18\n",
       "            },\n",
       "            \"subtextStyle\": {\n",
       "                \"fontSize\": 12\n",
       "            }\n",
       "        }\n",
       "    ],\n",
       "    \"toolbox\": {\n",
       "        \"show\": true,\n",
       "        \"orient\": \"vertical\",\n",
       "        \"left\": \"95%\",\n",
       "        \"top\": \"center\",\n",
       "        \"feature\": {\n",
       "            \"saveAsImage\": {\n",
       "                \"show\": true,\n",
       "                \"title\": \"save as image\"\n",
       "            },\n",
       "            \"restore\": {\n",
       "                \"show\": true,\n",
       "                \"title\": \"restore\"\n",
       "            },\n",
       "            \"dataView\": {\n",
       "                \"show\": true,\n",
       "                \"title\": \"data view\"\n",
       "            }\n",
       "        }\n",
       "    },\n",
       "    \"series_id\": 3752658,\n",
       "    \"tooltip\": {\n",
       "        \"trigger\": \"item\",\n",
       "        \"triggerOn\": \"mousemove|click\",\n",
       "        \"axisPointer\": {\n",
       "            \"type\": \"line\"\n",
       "        },\n",
       "        \"formatter\": \"{b}: {c}\",\n",
       "        \"textStyle\": {\n",
       "            \"fontSize\": 14\n",
       "        },\n",
       "        \"backgroundColor\": \"rgba(50,50,50,0.7)\",\n",
       "        \"borderColor\": \"#333\",\n",
       "        \"borderWidth\": 0\n",
       "    },\n",
       "    \"series\": [\n",
       "        {\n",
       "            \"type\": \"scatter\",\n",
       "            \"coordinateSystem\": \"geo\",\n",
       "            \"symbol\": \"circle\",\n",
       "            \"symbolSize\": 15,\n",
       "            \"data\": [\n",
       "                {\n",
       "                    \"name\": \"\\u4e1c\\u57ce\\u533a\",\n",
       "                    \"value\": [\n",
       "                        116.42,\n",
       "                        39.93,\n",
       "                        32\n",
       "                    ]\n",
       "                },\n",
       "                {\n",
       "                    \"name\": \"\\u4e30\\u53f0\\u533a\",\n",
       "                    \"value\": [\n",
       "                        116.28,\n",
       "                        39.85,\n",
       "                        7\n",
       "                    ]\n",
       "                },\n",
       "                {\n",
       "                    \"name\": \"\\u5927\\u5174\\u533a\",\n",
       "                    \"value\": [\n",
       "                        116.33,\n",
       "                        39.73,\n",
       "                        14\n",
       "                    ]\n",
       "                },\n",
       "                {\n",
       "                    \"name\": \"\\u660c\\u5e73\\u533a\",\n",
       "                    \"value\": [\n",
       "                        116.23,\n",
       "                        40.22,\n",
       "                        3\n",
       "                    ]\n",
       "                },\n",
       "                {\n",
       "                    \"name\": \"\\u671d\\u9633\\u533a\",\n",
       "                    \"value\": [\n",
       "                        125.28,\n",
       "                        43.83,\n",
       "                        313\n",
       "                    ]\n",
       "                },\n",
       "                {\n",
       "                    \"name\": \"\\u6d77\\u6dc0\\u533a\",\n",
       "                    \"value\": [\n",
       "                        116.3,\n",
       "                        39.95,\n",
       "                        259\n",
       "                    ]\n",
       "                },\n",
       "                {\n",
       "                    \"name\": \"\\u77f3\\u666f\\u5c71\\u533a\",\n",
       "                    \"value\": [\n",
       "                        116.22,\n",
       "                        39.9,\n",
       "                        3\n",
       "                    ]\n",
       "                },\n",
       "                {\n",
       "                    \"name\": \"\\u897f\\u57ce\\u533a\",\n",
       "                    \"value\": [\n",
       "                        116.37,\n",
       "                        39.92,\n",
       "                        11\n",
       "                    ]\n",
       "                },\n",
       "                {\n",
       "                    \"name\": \"\\u901a\\u5dde\\u533a\",\n",
       "                    \"value\": [\n",
       "                        116.65,\n",
       "                        39.92,\n",
       "                        10\n",
       "                    ]\n",
       "                },\n",
       "                {\n",
       "                    \"name\": \"\\u95e8\\u5934\\u6c9f\\u533a\",\n",
       "                    \"value\": [\n",
       "                        116.1,\n",
       "                        39.93,\n",
       "                        1\n",
       "                    ]\n",
       "                },\n",
       "                {\n",
       "                    \"name\": \"\\u987a\\u4e49\\u533a\",\n",
       "                    \"value\": [\n",
       "                        116.65,\n",
       "                        40.13,\n",
       "                        1\n",
       "                    ]\n",
       "                }\n",
       "            ],\n",
       "            \"label\": {\n",
       "                \"normal\": {\n",
       "                    \"show\": false,\n",
       "                    \"position\": \"top\",\n",
       "                    \"textStyle\": {\n",
       "                        \"fontSize\": 12\n",
       "                    }\n",
       "                },\n",
       "                \"emphasis\": {\n",
       "                    \"show\": true,\n",
       "                    \"textStyle\": {\n",
       "                        \"fontSize\": 12\n",
       "                    }\n",
       "                }\n",
       "            }\n",
       "        }\n",
       "    ],\n",
       "    \"legend\": [\n",
       "        {\n",
       "            \"data\": [\n",
       "                \"\"\n",
       "            ],\n",
       "            \"selectedMode\": \"multiple\",\n",
       "            \"show\": true,\n",
       "            \"left\": \"center\",\n",
       "            \"top\": \"top\",\n",
       "            \"orient\": \"horizontal\",\n",
       "            \"textStyle\": {\n",
       "                \"fontSize\": 12\n",
       "            }\n",
       "        }\n",
       "    ],\n",
       "    \"backgroundColor\": \"#404a59\",\n",
       "    \"animation\": true,\n",
       "    \"geo\": {\n",
       "        \"map\": \"\\u5317\\u4eac\",\n",
       "        \"roam\": true,\n",
       "        \"label\": {\n",
       "            \"emphasis\": {\n",
       "                \"show\": true,\n",
       "                \"textStyle\": {\n",
       "                    \"color\": \"#eee\"\n",
       "                }\n",
       "            }\n",
       "        },\n",
       "        \"itemStyle\": {\n",
       "            \"normal\": {\n",
       "                \"areaColor\": \"#323c48\",\n",
       "                \"borderColor\": \"#111\"\n",
       "            },\n",
       "            \"emphasis\": {\n",
       "                \"areaColor\": \"#2a333d\"\n",
       "            }\n",
       "        }\n",
       "    },\n",
       "    \"color\": [\n",
       "        \"#c23531\",\n",
       "        \"#2f4554\",\n",
       "        \"#61a0a8\",\n",
       "        \"#d48265\",\n",
       "        \"#749f83\",\n",
       "        \"#ca8622\",\n",
       "        \"#bda29a\",\n",
       "        \"#6e7074\",\n",
       "        \"#546570\",\n",
       "        \"#c4ccd3\",\n",
       "        \"#f05b72\",\n",
       "        \"#ef5b9c\",\n",
       "        \"#f47920\",\n",
       "        \"#905a3d\",\n",
       "        \"#fab27b\",\n",
       "        \"#2a5caa\",\n",
       "        \"#444693\",\n",
       "        \"#726930\",\n",
       "        \"#b2d235\",\n",
       "        \"#6d8346\",\n",
       "        \"#ac6767\",\n",
       "        \"#1d953f\",\n",
       "        \"#6950a1\",\n",
       "        \"#918597\",\n",
       "        \"#f6f5ec\"\n",
       "    ],\n",
       "    \"visualMap\": {\n",
       "        \"type\": \"continuous\",\n",
       "        \"min\": 0,\n",
       "        \"max\": 150,\n",
       "        \"text\": [\n",
       "            \"high\",\n",
       "            \"low\"\n",
       "        ],\n",
       "        \"textStyle\": {\n",
       "            \"color\": \"#fff\"\n",
       "        },\n",
       "        \"inRange\": {\n",
       "            \"color\": [\n",
       "                \"#50a3ba\",\n",
       "                \"#eac763\",\n",
       "                \"#d94e5d\"\n",
       "            ]\n",
       "        },\n",
       "        \"calculable\": true,\n",
       "        \"splitNumber\": 5,\n",
       "        \"orient\": \"vertical\",\n",
       "        \"left\": \"left\",\n",
       "        \"top\": \"bottom\",\n",
       "        \"showLabel\": true\n",
       "    }\n",
       "};\n",
       "myChart_bd615aa97e5a46568189629b486d1d81.setOption(option_bd615aa97e5a46568189629b486d1d81);\n",
       "\n",
       "    });\n",
       "</script>\n"
      ],
      "text/plain": [
       "<pyecharts.charts.geo.Geo at 0x1f680dcdbe0>"
      ]
     },
     "execution_count": 15,
     "metadata": {},
     "output_type": "execute_result"
    }
   ],
   "source": [
    "from pyecharts import Geo\n",
    "\n",
    "data = df.district.value_counts().to_dict()\n",
    "\n",
    "geo = Geo(\n",
    "    \"北京\",\n",
    "    \"job\",\n",
    "    title_color=\"#fff\",\n",
    "    title_pos=\"center\",\n",
    "    width=600,\n",
    "    height=400,\n",
    "    background_color=\"#404a59\",\n",
    ")\n",
    "attr, value = geo.cast(data)\n",
    "\n",
    "geo.add(\n",
    "    \"\",\n",
    "    attr,\n",
    "    value,\n",
    "    visual_range=[0, 150],\n",
    "    maptype=\"北京\",\n",
    "    visual_text_color=\"#fff\",\n",
    "    symbol_size=15,\n",
    "    is_visualmap=True,\n",
    "\n",
    ")\n",
    "geo"
   ]
  },
  {
   "cell_type": "markdown",
   "metadata": {},
   "source": [
    "### 不同工作年限的数据分析师是什么收入水平？\n",
    "\n",
    "如果要从事数据分析师的话，我们有必要了解下不同工作年限的这个岗位的收入水平（尤其是5年后）。"
   ]
  },
  {
   "cell_type": "code",
   "execution_count": 16,
   "metadata": {
    "ExecuteTime": {
     "end_time": "2018-09-11T17:23:33.556265Z",
     "start_time": "2018-09-11T17:23:33.311614Z"
    }
   },
   "outputs": [
    {
     "data": {
      "image/png": "[encoded data removed]",
      "text/plain": [
       "<Figure size 432x288 with 1 Axes>"
      ]
     },
     "metadata": {},
     "output_type": "display_data"
    }
   ],
   "source": [
    "def calculate_salary_mean(salary_str):\n",
    "    salary_sum = 0\n",
    "    \n",
    "    salary_list= salary_str.upper().replace(\"K\", \"000\").split(\"-\")\n",
    "    \n",
    "    for i in salary_list:\n",
    "        salary_sum += int(i)\n",
    "    \n",
    "    return salary_sum / len(salary_list)\n",
    "\n",
    "# 计算每条招聘信息中新增的平均薪资\n",
    "df[\"salary_mean\"] = df[\"salary\"].map(lambda x: calculate_salary_mean(x))\n",
    "\n",
    "work_year_salary_mane = df.groupby(\"workYear\")[\"salary_mean\"].mean()\n",
    "\n",
    "plt.figure()\n",
    "\n",
    "work_year_salary_mane.plot.bar();"
   ]
  },
  {
   "cell_type": "markdown",
   "metadata": {},
   "source": [
    "对于数据分析岗位来说，应届毕业生平均可以拿到 6000+ 的薪资，工作 5 年以上可以拿到 30000+ 的薪资。"
   ]
  }
 ],
 "metadata": {
  "kernelspec": {
   "display_name": "Python 3",
   "language": "python",
   "name": "python3"
  },
  "language_info": {
   "codemirror_mode": {
    "name": "ipython",
    "version": 3
   },
   "file_extension": ".py",
   "mimetype": "text/x-python",
   "name": "python",
   "nbconvert_exporter": "python",
   "pygments_lexer": "ipython3",
   "version": "3.6.5"
  },
  "toc": {
   "nav_menu": {},
   "number_sections": true,
   "sideBar": true,
   "skip_h1_title": false,
   "toc_cell": true,
   "toc_position": {},
   "toc_section_display": "block",
   "toc_window_display": false
  }
 },
 "nbformat": 4,
 "nbformat_minor": 2
}
